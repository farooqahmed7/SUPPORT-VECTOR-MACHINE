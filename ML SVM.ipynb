{
 "cells": [
  {
   "cell_type": "code",
   "execution_count": 2,
   "metadata": {},
   "outputs": [
    {
     "name": "stderr",
     "output_type": "stream",
     "text": [
      "\n",
      "Bad key \"text.kerning_factor\" on line 4 in\n",
      "C:\\Users\\Admin\\Anaconda3\\lib\\site-packages\\matplotlib\\mpl-data\\stylelib\\_classic_test_patch.mplstyle.\n",
      "You probably need to get an updated matplotlibrc file from\n",
      "https://github.com/matplotlib/matplotlib/blob/v3.1.3/matplotlibrc.template\n",
      "or from the matplotlib source distribution\n"
     ]
    }
   ],
   "source": [
    "import pandas as pd\n",
    "import matplotlib.pyplot as plt\n",
    "#from sklearn.cluster import KMeans\n",
    "from sklearn.preprocessing import scale, LabelEncoder\n",
    "#from sklearn import datasets\n",
    "from sklearn.metrics import confusion_matrix ,accuracy_score\n",
    "import numpy as np\n",
    "from sklearn.model_selection import  train_test_split,GridSearchCV\n",
    "#from  sklearn.linear_model import LinearRegression\n",
    "#from sklearn.ensemble import RandomForestClassifier\n",
    "from collections import Counter\n",
    "\n",
    "from sklearn.svm import SVC\n",
    "\n",
    "#from sklearn.datasets import load_breast_cancer, load_iris, load_diabetes, load_wine, load_boston\n"
   ]
  },
  {
   "cell_type": "code",
   "execution_count": 3,
   "metadata": {},
   "outputs": [
    {
     "data": {
      "text/html": [
       "<div>\n",
       "<style scoped>\n",
       "    .dataframe tbody tr th:only-of-type {\n",
       "        vertical-align: middle;\n",
       "    }\n",
       "\n",
       "    .dataframe tbody tr th {\n",
       "        vertical-align: top;\n",
       "    }\n",
       "\n",
       "    .dataframe thead th {\n",
       "        text-align: right;\n",
       "    }\n",
       "</style>\n",
       "<table border=\"1\" class=\"dataframe\">\n",
       "  <thead>\n",
       "    <tr style=\"text-align: right;\">\n",
       "      <th></th>\n",
       "      <th>buying</th>\n",
       "      <th>maint</th>\n",
       "      <th>doors</th>\n",
       "      <th>persons</th>\n",
       "      <th>lug_boot</th>\n",
       "      <th>safety</th>\n",
       "      <th>outcome</th>\n",
       "    </tr>\n",
       "  </thead>\n",
       "  <tbody>\n",
       "    <tr>\n",
       "      <th>0</th>\n",
       "      <td>vhigh</td>\n",
       "      <td>vhigh</td>\n",
       "      <td>2</td>\n",
       "      <td>2</td>\n",
       "      <td>small</td>\n",
       "      <td>low</td>\n",
       "      <td>unacc</td>\n",
       "    </tr>\n",
       "    <tr>\n",
       "      <th>1</th>\n",
       "      <td>vhigh</td>\n",
       "      <td>vhigh</td>\n",
       "      <td>2</td>\n",
       "      <td>2</td>\n",
       "      <td>small</td>\n",
       "      <td>med</td>\n",
       "      <td>unacc</td>\n",
       "    </tr>\n",
       "    <tr>\n",
       "      <th>2</th>\n",
       "      <td>vhigh</td>\n",
       "      <td>vhigh</td>\n",
       "      <td>2</td>\n",
       "      <td>2</td>\n",
       "      <td>small</td>\n",
       "      <td>high</td>\n",
       "      <td>unacc</td>\n",
       "    </tr>\n",
       "    <tr>\n",
       "      <th>3</th>\n",
       "      <td>vhigh</td>\n",
       "      <td>vhigh</td>\n",
       "      <td>2</td>\n",
       "      <td>2</td>\n",
       "      <td>med</td>\n",
       "      <td>low</td>\n",
       "      <td>unacc</td>\n",
       "    </tr>\n",
       "    <tr>\n",
       "      <th>4</th>\n",
       "      <td>vhigh</td>\n",
       "      <td>vhigh</td>\n",
       "      <td>2</td>\n",
       "      <td>2</td>\n",
       "      <td>med</td>\n",
       "      <td>med</td>\n",
       "      <td>unacc</td>\n",
       "    </tr>\n",
       "  </tbody>\n",
       "</table>\n",
       "</div>"
      ],
      "text/plain": [
       "  buying  maint  doors  persons lug_boot safety outcome\n",
       "0  vhigh  vhigh      2        2    small    low   unacc\n",
       "1  vhigh  vhigh      2        2    small    med   unacc\n",
       "2  vhigh  vhigh      2        2    small   high   unacc\n",
       "3  vhigh  vhigh      2        2      med    low   unacc\n",
       "4  vhigh  vhigh      2        2      med    med   unacc"
      ]
     },
     "execution_count": 3,
     "metadata": {},
     "output_type": "execute_result"
    }
   ],
   "source": [
    "cars = pd.read_csv('C:\\\\Users\\\\Admin\\\\Desktop\\\\Datamites\\\\car_evaluation.csv')\n",
    "cars\n",
    "cars.head()"
   ]
  },
  {
   "cell_type": "code",
   "execution_count": 4,
   "metadata": {
    "scrolled": true
   },
   "outputs": [
    {
     "data": {
      "text/plain": [
       "Counter({'unacc': 1210, 'acc': 384, 'vgood': 65, 'good': 69})"
      ]
     },
     "execution_count": 4,
     "metadata": {},
     "output_type": "execute_result"
    }
   ],
   "source": [
    "Counter(cars.outcome)   # It COUNTS a SPECIFIC VARIABLE'S COUNT & RETURNS its NUMBER as shown in the O/P"
   ]
  },
  {
   "cell_type": "code",
   "execution_count": 54,
   "metadata": {},
   "outputs": [
    {
     "data": {
      "text/plain": [
       "(1728, 7)"
      ]
     },
     "execution_count": 54,
     "metadata": {},
     "output_type": "execute_result"
    }
   ],
   "source": [
    "cars.shape"
   ]
  },
  {
   "cell_type": "code",
   "execution_count": 10,
   "metadata": {},
   "outputs": [
    {
     "data": {
      "text/html": [
       "<div>\n",
       "<style scoped>\n",
       "    .dataframe tbody tr th:only-of-type {\n",
       "        vertical-align: middle;\n",
       "    }\n",
       "\n",
       "    .dataframe tbody tr th {\n",
       "        vertical-align: top;\n",
       "    }\n",
       "\n",
       "    .dataframe thead th {\n",
       "        text-align: right;\n",
       "    }\n",
       "</style>\n",
       "<table border=\"1\" class=\"dataframe\">\n",
       "  <thead>\n",
       "    <tr style=\"text-align: right;\">\n",
       "      <th></th>\n",
       "      <th>doors</th>\n",
       "      <th>persons</th>\n",
       "    </tr>\n",
       "  </thead>\n",
       "  <tbody>\n",
       "    <tr>\n",
       "      <th>count</th>\n",
       "      <td>1728.000000</td>\n",
       "      <td>1728.000000</td>\n",
       "    </tr>\n",
       "    <tr>\n",
       "      <th>mean</th>\n",
       "      <td>3.500000</td>\n",
       "      <td>3.666667</td>\n",
       "    </tr>\n",
       "    <tr>\n",
       "      <th>std</th>\n",
       "      <td>1.118358</td>\n",
       "      <td>1.247580</td>\n",
       "    </tr>\n",
       "    <tr>\n",
       "      <th>min</th>\n",
       "      <td>2.000000</td>\n",
       "      <td>2.000000</td>\n",
       "    </tr>\n",
       "    <tr>\n",
       "      <th>25%</th>\n",
       "      <td>2.750000</td>\n",
       "      <td>2.000000</td>\n",
       "    </tr>\n",
       "    <tr>\n",
       "      <th>50%</th>\n",
       "      <td>3.500000</td>\n",
       "      <td>4.000000</td>\n",
       "    </tr>\n",
       "    <tr>\n",
       "      <th>75%</th>\n",
       "      <td>4.250000</td>\n",
       "      <td>5.000000</td>\n",
       "    </tr>\n",
       "    <tr>\n",
       "      <th>max</th>\n",
       "      <td>5.000000</td>\n",
       "      <td>5.000000</td>\n",
       "    </tr>\n",
       "  </tbody>\n",
       "</table>\n",
       "</div>"
      ],
      "text/plain": [
       "             doors      persons\n",
       "count  1728.000000  1728.000000\n",
       "mean      3.500000     3.666667\n",
       "std       1.118358     1.247580\n",
       "min       2.000000     2.000000\n",
       "25%       2.750000     2.000000\n",
       "50%       3.500000     4.000000\n",
       "75%       4.250000     5.000000\n",
       "max       5.000000     5.000000"
      ]
     },
     "execution_count": 10,
     "metadata": {},
     "output_type": "execute_result"
    }
   ],
   "source": [
    "cars.describe()"
   ]
  },
  {
   "cell_type": "code",
   "execution_count": 11,
   "metadata": {},
   "outputs": [
    {
     "data": {
      "text/plain": [
       "buying      0\n",
       "maint       0\n",
       "doors       0\n",
       "persons     0\n",
       "lug_boot    0\n",
       "safety      0\n",
       "outcome     0\n",
       "dtype: int64"
      ]
     },
     "execution_count": 11,
     "metadata": {},
     "output_type": "execute_result"
    }
   ],
   "source": [
    "cars.isnull().sum()"
   ]
  },
  {
   "cell_type": "code",
   "execution_count": 12,
   "metadata": {},
   "outputs": [
    {
     "data": {
      "text/plain": [
       "Index(['buying', 'maint', 'doors', 'persons', 'lug_boot', 'safety', 'outcome'], dtype='object')"
      ]
     },
     "execution_count": 12,
     "metadata": {},
     "output_type": "execute_result"
    }
   ],
   "source": [
    "cars.columns"
   ]
  },
  {
   "cell_type": "code",
   "execution_count": 13,
   "metadata": {},
   "outputs": [
    {
     "data": {
      "text/html": [
       "<div>\n",
       "<style scoped>\n",
       "    .dataframe tbody tr th:only-of-type {\n",
       "        vertical-align: middle;\n",
       "    }\n",
       "\n",
       "    .dataframe tbody tr th {\n",
       "        vertical-align: top;\n",
       "    }\n",
       "\n",
       "    .dataframe thead th {\n",
       "        text-align: right;\n",
       "    }\n",
       "</style>\n",
       "<table border=\"1\" class=\"dataframe\">\n",
       "  <thead>\n",
       "    <tr style=\"text-align: right;\">\n",
       "      <th></th>\n",
       "      <th>buying</th>\n",
       "      <th>maint</th>\n",
       "      <th>doors</th>\n",
       "      <th>persons</th>\n",
       "      <th>lug_boot</th>\n",
       "      <th>safety</th>\n",
       "    </tr>\n",
       "  </thead>\n",
       "  <tbody>\n",
       "    <tr>\n",
       "      <th>0</th>\n",
       "      <td>vhigh</td>\n",
       "      <td>vhigh</td>\n",
       "      <td>2</td>\n",
       "      <td>2</td>\n",
       "      <td>small</td>\n",
       "      <td>low</td>\n",
       "    </tr>\n",
       "    <tr>\n",
       "      <th>1</th>\n",
       "      <td>vhigh</td>\n",
       "      <td>vhigh</td>\n",
       "      <td>2</td>\n",
       "      <td>2</td>\n",
       "      <td>small</td>\n",
       "      <td>med</td>\n",
       "    </tr>\n",
       "    <tr>\n",
       "      <th>2</th>\n",
       "      <td>vhigh</td>\n",
       "      <td>vhigh</td>\n",
       "      <td>2</td>\n",
       "      <td>2</td>\n",
       "      <td>small</td>\n",
       "      <td>high</td>\n",
       "    </tr>\n",
       "    <tr>\n",
       "      <th>3</th>\n",
       "      <td>vhigh</td>\n",
       "      <td>vhigh</td>\n",
       "      <td>2</td>\n",
       "      <td>2</td>\n",
       "      <td>med</td>\n",
       "      <td>low</td>\n",
       "    </tr>\n",
       "    <tr>\n",
       "      <th>4</th>\n",
       "      <td>vhigh</td>\n",
       "      <td>vhigh</td>\n",
       "      <td>2</td>\n",
       "      <td>2</td>\n",
       "      <td>med</td>\n",
       "      <td>med</td>\n",
       "    </tr>\n",
       "  </tbody>\n",
       "</table>\n",
       "</div>"
      ],
      "text/plain": [
       "  buying  maint  doors  persons lug_boot safety\n",
       "0  vhigh  vhigh      2        2    small    low\n",
       "1  vhigh  vhigh      2        2    small    med\n",
       "2  vhigh  vhigh      2        2    small   high\n",
       "3  vhigh  vhigh      2        2      med    low\n",
       "4  vhigh  vhigh      2        2      med    med"
      ]
     },
     "execution_count": 13,
     "metadata": {},
     "output_type": "execute_result"
    }
   ],
   "source": [
    "X = cars.iloc[: , : -1]\n",
    "X.head()"
   ]
  },
  {
   "cell_type": "code",
   "execution_count": 14,
   "metadata": {},
   "outputs": [
    {
     "data": {
      "text/plain": [
       "0    unacc\n",
       "1    unacc\n",
       "2    unacc\n",
       "3    unacc\n",
       "4    unacc\n",
       "Name: outcome, dtype: object"
      ]
     },
     "execution_count": 14,
     "metadata": {},
     "output_type": "execute_result"
    }
   ],
   "source": [
    "# Y = cars.loc[: ,'outcome']\n",
    "y = cars.outcome\n",
    "y.head()"
   ]
  },
  {
   "cell_type": "code",
   "execution_count": 15,
   "metadata": {},
   "outputs": [
    {
     "data": {
      "text/html": [
       "<div>\n",
       "<style scoped>\n",
       "    .dataframe tbody tr th:only-of-type {\n",
       "        vertical-align: middle;\n",
       "    }\n",
       "\n",
       "    .dataframe tbody tr th {\n",
       "        vertical-align: top;\n",
       "    }\n",
       "\n",
       "    .dataframe thead th {\n",
       "        text-align: right;\n",
       "    }\n",
       "</style>\n",
       "<table border=\"1\" class=\"dataframe\">\n",
       "  <thead>\n",
       "    <tr style=\"text-align: right;\">\n",
       "      <th></th>\n",
       "      <th>buying</th>\n",
       "      <th>maint</th>\n",
       "      <th>doors</th>\n",
       "      <th>persons</th>\n",
       "      <th>lug_boot</th>\n",
       "      <th>safety</th>\n",
       "    </tr>\n",
       "  </thead>\n",
       "  <tbody>\n",
       "    <tr>\n",
       "      <th>0</th>\n",
       "      <td>3</td>\n",
       "      <td>3</td>\n",
       "      <td>2</td>\n",
       "      <td>2</td>\n",
       "      <td>2</td>\n",
       "      <td>1</td>\n",
       "    </tr>\n",
       "    <tr>\n",
       "      <th>1</th>\n",
       "      <td>3</td>\n",
       "      <td>3</td>\n",
       "      <td>2</td>\n",
       "      <td>2</td>\n",
       "      <td>2</td>\n",
       "      <td>2</td>\n",
       "    </tr>\n",
       "    <tr>\n",
       "      <th>2</th>\n",
       "      <td>3</td>\n",
       "      <td>3</td>\n",
       "      <td>2</td>\n",
       "      <td>2</td>\n",
       "      <td>2</td>\n",
       "      <td>0</td>\n",
       "    </tr>\n",
       "    <tr>\n",
       "      <th>3</th>\n",
       "      <td>3</td>\n",
       "      <td>3</td>\n",
       "      <td>2</td>\n",
       "      <td>2</td>\n",
       "      <td>1</td>\n",
       "      <td>1</td>\n",
       "    </tr>\n",
       "    <tr>\n",
       "      <th>4</th>\n",
       "      <td>3</td>\n",
       "      <td>3</td>\n",
       "      <td>2</td>\n",
       "      <td>2</td>\n",
       "      <td>1</td>\n",
       "      <td>2</td>\n",
       "    </tr>\n",
       "  </tbody>\n",
       "</table>\n",
       "</div>"
      ],
      "text/plain": [
       "   buying  maint  doors  persons  lug_boot  safety\n",
       "0       3      3      2        2         2       1\n",
       "1       3      3      2        2         2       2\n",
       "2       3      3      2        2         2       0\n",
       "3       3      3      2        2         1       1\n",
       "4       3      3      2        2         1       2"
      ]
     },
     "execution_count": 15,
     "metadata": {},
     "output_type": "execute_result"
    }
   ],
   "source": [
    "enc = LabelEncoder() # 'buying'( 0,1,2,3 ),'maint'( 0,1,2,3 ), 'lug_boot'( 0,1,2 ), 'safety' ( 0, 1,2 ) \n",
    "                     #are CONVERTED from CATEGORICAL Data Type to NUMERICAL Data Type\n",
    "                     # High = 0, Med = 1 & low = 2 :  Values are given according to ALPHABETICAL ORDER\n",
    " \n",
    "X.buying = enc.fit_transform(X.buying) # \" enc.fit_transform(y) \" : Fit label encoder and return encoded labels\n",
    "X.maint = enc.fit_transform(X.maint)\n",
    "X.lug_boot = enc.fit_transform(X.lug_boot)\n",
    "X.safety = enc.fit_transform(X.safety)\n",
    "\n",
    "X.head()"
   ]
  },
  {
   "cell_type": "code",
   "execution_count": 16,
   "metadata": {},
   "outputs": [],
   "source": [
    "X_train,X_test,y_train,y_test = train_test_split(X,y,test_size=0.3,random_state = 10) # R2 _SCORE will NOT CHANGE"
   ]
  },
  {
   "cell_type": "code",
   "execution_count": 17,
   "metadata": {},
   "outputs": [
    {
     "data": {
      "text/plain": [
       "(1209, 6)"
      ]
     },
     "execution_count": 17,
     "metadata": {},
     "output_type": "execute_result"
    }
   ],
   "source": [
    "X_train.shape"
   ]
  },
  {
   "cell_type": "code",
   "execution_count": 18,
   "metadata": {},
   "outputs": [
    {
     "data": {
      "text/plain": [
       "(519, 6)"
      ]
     },
     "execution_count": 18,
     "metadata": {},
     "output_type": "execute_result"
    }
   ],
   "source": [
    "X_test.shape"
   ]
  },
  {
   "cell_type": "code",
   "execution_count": 19,
   "metadata": {},
   "outputs": [],
   "source": [
    "X_train,X_test,y_train,y_test = train_test_split(X,y,random_state = 10) # R2 _SCORE will NOT CHANGE\n",
    "# Here, SPLIT SIZE = 0.3 is NOT GIVEN"
   ]
  },
  {
   "cell_type": "code",
   "execution_count": 20,
   "metadata": {},
   "outputs": [
    {
     "data": {
      "text/plain": [
       "SVC(C=1.0, break_ties=False, cache_size=200, class_weight=None, coef0=0.0,\n",
       "    decision_function_shape='ovr', degree=3, gamma='scale', kernel='rbf',\n",
       "    max_iter=-1, probability=False, random_state=None, shrinking=True,\n",
       "    tol=0.001, verbose=False)"
      ]
     },
     "execution_count": 20,
     "metadata": {},
     "output_type": "execute_result"
    }
   ],
   "source": [
    "model = SVC()   # NO PARAMETERS in SVC()\n",
    "model.fit(X_train,y_train)\n"
   ]
  },
  {
   "cell_type": "code",
   "execution_count": 21,
   "metadata": {},
   "outputs": [
    {
     "name": "stdout",
     "output_type": "stream",
     "text": [
      "0.8078703703703703\n"
     ]
    }
   ],
   "source": [
    "y_predict = model.predict(X_test)   # In SAGAR's Session , we got Accuracy = 0.8078 \n",
    "print(accuracy_score( y_test,y_predict)) \n",
    "\n"
   ]
  },
  {
   "cell_type": "code",
   "execution_count": 22,
   "metadata": {},
   "outputs": [
    {
     "name": "stdout",
     "output_type": "stream",
     "text": [
      "Counter({'unacc': 307, 'acc': 84, 'vgood': 22, 'good': 19})\n"
     ]
    },
    {
     "data": {
      "text/html": [
       "<div>\n",
       "<style scoped>\n",
       "    .dataframe tbody tr th:only-of-type {\n",
       "        vertical-align: middle;\n",
       "    }\n",
       "\n",
       "    .dataframe tbody tr th {\n",
       "        vertical-align: top;\n",
       "    }\n",
       "\n",
       "    .dataframe thead th {\n",
       "        text-align: right;\n",
       "    }\n",
       "</style>\n",
       "<table border=\"1\" class=\"dataframe\">\n",
       "  <thead>\n",
       "    <tr style=\"text-align: right;\">\n",
       "      <th>col_0</th>\n",
       "      <th>acc</th>\n",
       "      <th>unacc</th>\n",
       "      <th>vgood</th>\n",
       "    </tr>\n",
       "    <tr>\n",
       "      <th>outcome</th>\n",
       "      <th></th>\n",
       "      <th></th>\n",
       "      <th></th>\n",
       "    </tr>\n",
       "  </thead>\n",
       "  <tbody>\n",
       "    <tr>\n",
       "      <th>acc</th>\n",
       "      <td>41</td>\n",
       "      <td>43</td>\n",
       "      <td>0</td>\n",
       "    </tr>\n",
       "    <tr>\n",
       "      <th>good</th>\n",
       "      <td>14</td>\n",
       "      <td>5</td>\n",
       "      <td>0</td>\n",
       "    </tr>\n",
       "    <tr>\n",
       "      <th>unacc</th>\n",
       "      <td>3</td>\n",
       "      <td>304</td>\n",
       "      <td>0</td>\n",
       "    </tr>\n",
       "    <tr>\n",
       "      <th>vgood</th>\n",
       "      <td>18</td>\n",
       "      <td>0</td>\n",
       "      <td>4</td>\n",
       "    </tr>\n",
       "  </tbody>\n",
       "</table>\n",
       "</div>"
      ],
      "text/plain": [
       "col_0    acc  unacc  vgood\n",
       "outcome                   \n",
       "acc       41     43      0\n",
       "good      14      5      0\n",
       "unacc      3    304      0\n",
       "vgood     18      0      4"
      ]
     },
     "execution_count": 22,
     "metadata": {},
     "output_type": "execute_result"
    }
   ],
   "source": [
    "print(Counter(y_test))\n",
    "pd.crosstab(y_test,y_predict)"
   ]
  },
  {
   "cell_type": "code",
   "execution_count": 23,
   "metadata": {},
   "outputs": [
    {
     "data": {
      "text/plain": [
       "SVC(C=0.1, break_ties=False, cache_size=200, class_weight=None, coef0=0.0,\n",
       "    decision_function_shape='ovr', degree=3, gamma=0.1, kernel='rbf',\n",
       "    max_iter=-1, probability=False, random_state=None, shrinking=True,\n",
       "    tol=0.001, verbose=False)"
      ]
     },
     "execution_count": 23,
     "metadata": {},
     "output_type": "execute_result"
    }
   ],
   "source": [
    "model = SVC(kernel='rbf',C = 0.1,gamma = 0.1)  # C : 1 to 1000, GAMMA : 0.01 to 10\n",
    "model.fit(X_train,y_train)\n"
   ]
  },
  {
   "cell_type": "code",
   "execution_count": 24,
   "metadata": {},
   "outputs": [
    {
     "name": "stdout",
     "output_type": "stream",
     "text": [
      "0.7106481481481481\n"
     ]
    }
   ],
   "source": [
    "y_predict = model.predict(X_test)   # In SAGAR's Session , we got Accuracy = 0.8078 \n",
    "print(accuracy_score( y_test,y_predict)) "
   ]
  },
  {
   "cell_type": "code",
   "execution_count": 25,
   "metadata": {},
   "outputs": [
    {
     "name": "stdout",
     "output_type": "stream",
     "text": [
      "Counter({'unacc': 307, 'acc': 84, 'vgood': 22, 'good': 19})\n"
     ]
    },
    {
     "data": {
      "text/html": [
       "<div>\n",
       "<style scoped>\n",
       "    .dataframe tbody tr th:only-of-type {\n",
       "        vertical-align: middle;\n",
       "    }\n",
       "\n",
       "    .dataframe tbody tr th {\n",
       "        vertical-align: top;\n",
       "    }\n",
       "\n",
       "    .dataframe thead th {\n",
       "        text-align: right;\n",
       "    }\n",
       "</style>\n",
       "<table border=\"1\" class=\"dataframe\">\n",
       "  <thead>\n",
       "    <tr style=\"text-align: right;\">\n",
       "      <th>col_0</th>\n",
       "      <th>unacc</th>\n",
       "    </tr>\n",
       "    <tr>\n",
       "      <th>outcome</th>\n",
       "      <th></th>\n",
       "    </tr>\n",
       "  </thead>\n",
       "  <tbody>\n",
       "    <tr>\n",
       "      <th>acc</th>\n",
       "      <td>84</td>\n",
       "    </tr>\n",
       "    <tr>\n",
       "      <th>good</th>\n",
       "      <td>19</td>\n",
       "    </tr>\n",
       "    <tr>\n",
       "      <th>unacc</th>\n",
       "      <td>307</td>\n",
       "    </tr>\n",
       "    <tr>\n",
       "      <th>vgood</th>\n",
       "      <td>22</td>\n",
       "    </tr>\n",
       "  </tbody>\n",
       "</table>\n",
       "</div>"
      ],
      "text/plain": [
       "col_0    unacc\n",
       "outcome       \n",
       "acc         84\n",
       "good        19\n",
       "unacc      307\n",
       "vgood       22"
      ]
     },
     "execution_count": 25,
     "metadata": {},
     "output_type": "execute_result"
    }
   ],
   "source": [
    "print(Counter(y_test))\n",
    "pd.crosstab(y_test,y_predict)"
   ]
  },
  {
   "cell_type": "code",
   "execution_count": 26,
   "metadata": {},
   "outputs": [
    {
     "data": {
      "text/plain": [
       "SVC(C=0.1, break_ties=False, cache_size=200, class_weight=None, coef0=0.0,\n",
       "    decision_function_shape='ovr', degree=3, gamma=1, kernel='rbf', max_iter=-1,\n",
       "    probability=False, random_state=None, shrinking=True, tol=0.001,\n",
       "    verbose=False)"
      ]
     },
     "execution_count": 26,
     "metadata": {},
     "output_type": "execute_result"
    }
   ],
   "source": [
    "model = SVC(kernel='rbf',C = 0.1,gamma = 1)  # C : 1 to 1000, GAMMA : 0.01 to 10\n",
    "model.fit(X_train,y_train)"
   ]
  },
  {
   "cell_type": "code",
   "execution_count": 27,
   "metadata": {},
   "outputs": [
    {
     "name": "stdout",
     "output_type": "stream",
     "text": [
      "0.7106481481481481\n"
     ]
    }
   ],
   "source": [
    "y_predict = model.predict(X_test)   # In SAGAR's Session , we got Accuracy = 0.8078 \n",
    "print(accuracy_score( y_test,y_predict)) "
   ]
  },
  {
   "cell_type": "code",
   "execution_count": 28,
   "metadata": {},
   "outputs": [
    {
     "name": "stdout",
     "output_type": "stream",
     "text": [
      "Counter({'unacc': 307, 'acc': 84, 'vgood': 22, 'good': 19})\n"
     ]
    },
    {
     "data": {
      "text/html": [
       "<div>\n",
       "<style scoped>\n",
       "    .dataframe tbody tr th:only-of-type {\n",
       "        vertical-align: middle;\n",
       "    }\n",
       "\n",
       "    .dataframe tbody tr th {\n",
       "        vertical-align: top;\n",
       "    }\n",
       "\n",
       "    .dataframe thead th {\n",
       "        text-align: right;\n",
       "    }\n",
       "</style>\n",
       "<table border=\"1\" class=\"dataframe\">\n",
       "  <thead>\n",
       "    <tr style=\"text-align: right;\">\n",
       "      <th>col_0</th>\n",
       "      <th>unacc</th>\n",
       "    </tr>\n",
       "    <tr>\n",
       "      <th>outcome</th>\n",
       "      <th></th>\n",
       "    </tr>\n",
       "  </thead>\n",
       "  <tbody>\n",
       "    <tr>\n",
       "      <th>acc</th>\n",
       "      <td>84</td>\n",
       "    </tr>\n",
       "    <tr>\n",
       "      <th>good</th>\n",
       "      <td>19</td>\n",
       "    </tr>\n",
       "    <tr>\n",
       "      <th>unacc</th>\n",
       "      <td>307</td>\n",
       "    </tr>\n",
       "    <tr>\n",
       "      <th>vgood</th>\n",
       "      <td>22</td>\n",
       "    </tr>\n",
       "  </tbody>\n",
       "</table>\n",
       "</div>"
      ],
      "text/plain": [
       "col_0    unacc\n",
       "outcome       \n",
       "acc         84\n",
       "good        19\n",
       "unacc      307\n",
       "vgood       22"
      ]
     },
     "execution_count": 28,
     "metadata": {},
     "output_type": "execute_result"
    }
   ],
   "source": [
    "print(Counter(y_test))\n",
    "pd.crosstab(y_test,y_predict)"
   ]
  },
  {
   "cell_type": "code",
   "execution_count": 29,
   "metadata": {},
   "outputs": [
    {
     "data": {
      "text/plain": [
       "SVC(C=0.5, break_ties=False, cache_size=200, class_weight=None, coef0=0.0,\n",
       "    decision_function_shape='ovr', degree=3, gamma=1, kernel='rbf', max_iter=-1,\n",
       "    probability=False, random_state=None, shrinking=True, tol=0.001,\n",
       "    verbose=False)"
      ]
     },
     "execution_count": 29,
     "metadata": {},
     "output_type": "execute_result"
    }
   ],
   "source": [
    "model = SVC(kernel='rbf',C = 0.5 ,gamma = 1)  # C : 1 to 1000, GAMMA : 0.01 to 10\n",
    "model.fit(X_train,y_train)"
   ]
  },
  {
   "cell_type": "code",
   "execution_count": 30,
   "metadata": {},
   "outputs": [
    {
     "name": "stdout",
     "output_type": "stream",
     "text": [
      "0.8564814814814815\n"
     ]
    }
   ],
   "source": [
    "y_predict = model.predict(X_test)   # In SAGAR's Session , we got Accuracy = 0.8078 \n",
    "print(accuracy_score( y_test,y_predict)) "
   ]
  },
  {
   "cell_type": "code",
   "execution_count": 31,
   "metadata": {},
   "outputs": [
    {
     "name": "stdout",
     "output_type": "stream",
     "text": [
      "Counter({'unacc': 307, 'acc': 84, 'vgood': 22, 'good': 19})\n"
     ]
    },
    {
     "data": {
      "text/html": [
       "<div>\n",
       "<style scoped>\n",
       "    .dataframe tbody tr th:only-of-type {\n",
       "        vertical-align: middle;\n",
       "    }\n",
       "\n",
       "    .dataframe tbody tr th {\n",
       "        vertical-align: top;\n",
       "    }\n",
       "\n",
       "    .dataframe thead th {\n",
       "        text-align: right;\n",
       "    }\n",
       "</style>\n",
       "<table border=\"1\" class=\"dataframe\">\n",
       "  <thead>\n",
       "    <tr style=\"text-align: right;\">\n",
       "      <th>col_0</th>\n",
       "      <th>acc</th>\n",
       "      <th>good</th>\n",
       "      <th>unacc</th>\n",
       "      <th>vgood</th>\n",
       "    </tr>\n",
       "    <tr>\n",
       "      <th>outcome</th>\n",
       "      <th></th>\n",
       "      <th></th>\n",
       "      <th></th>\n",
       "      <th></th>\n",
       "    </tr>\n",
       "  </thead>\n",
       "  <tbody>\n",
       "    <tr>\n",
       "      <th>acc</th>\n",
       "      <td>49</td>\n",
       "      <td>0</td>\n",
       "      <td>35</td>\n",
       "      <td>0</td>\n",
       "    </tr>\n",
       "    <tr>\n",
       "      <th>good</th>\n",
       "      <td>14</td>\n",
       "      <td>2</td>\n",
       "      <td>3</td>\n",
       "      <td>0</td>\n",
       "    </tr>\n",
       "    <tr>\n",
       "      <th>unacc</th>\n",
       "      <td>0</td>\n",
       "      <td>0</td>\n",
       "      <td>307</td>\n",
       "      <td>0</td>\n",
       "    </tr>\n",
       "    <tr>\n",
       "      <th>vgood</th>\n",
       "      <td>6</td>\n",
       "      <td>0</td>\n",
       "      <td>4</td>\n",
       "      <td>12</td>\n",
       "    </tr>\n",
       "  </tbody>\n",
       "</table>\n",
       "</div>"
      ],
      "text/plain": [
       "col_0    acc  good  unacc  vgood\n",
       "outcome                         \n",
       "acc       49     0     35      0\n",
       "good      14     2      3      0\n",
       "unacc      0     0    307      0\n",
       "vgood      6     0      4     12"
      ]
     },
     "execution_count": 31,
     "metadata": {},
     "output_type": "execute_result"
    }
   ],
   "source": [
    "print(Counter(y_test))\n",
    "pd.crosstab(y_test,y_predict)"
   ]
  },
  {
   "cell_type": "code",
   "execution_count": 32,
   "metadata": {},
   "outputs": [
    {
     "data": {
      "text/plain": [
       "SVC(C=2, break_ties=False, cache_size=200, class_weight=None, coef0=0.0,\n",
       "    decision_function_shape='ovr', degree=3, gamma=1, kernel='rbf', max_iter=-1,\n",
       "    probability=False, random_state=None, shrinking=True, tol=0.001,\n",
       "    verbose=False)"
      ]
     },
     "execution_count": 32,
     "metadata": {},
     "output_type": "execute_result"
    }
   ],
   "source": [
    "model = SVC(kernel='rbf',C = 2 ,gamma = 1)  # C : 1 to 1000, GAMMA : 0.01 to 10\n",
    "model.fit(X_train,y_train)"
   ]
  },
  {
   "cell_type": "code",
   "execution_count": 33,
   "metadata": {},
   "outputs": [
    {
     "name": "stdout",
     "output_type": "stream",
     "text": [
      "0.9930555555555556\n"
     ]
    }
   ],
   "source": [
    "y_predict = model.predict(X_test)   # In SAGAR's Session , we got Accuracy = 0.8078 \n",
    "print(accuracy_score( y_test,y_predict)) "
   ]
  },
  {
   "cell_type": "code",
   "execution_count": 34,
   "metadata": {},
   "outputs": [
    {
     "name": "stdout",
     "output_type": "stream",
     "text": [
      "Counter({'unacc': 307, 'acc': 84, 'vgood': 22, 'good': 19})\n"
     ]
    },
    {
     "data": {
      "text/html": [
       "<div>\n",
       "<style scoped>\n",
       "    .dataframe tbody tr th:only-of-type {\n",
       "        vertical-align: middle;\n",
       "    }\n",
       "\n",
       "    .dataframe tbody tr th {\n",
       "        vertical-align: top;\n",
       "    }\n",
       "\n",
       "    .dataframe thead th {\n",
       "        text-align: right;\n",
       "    }\n",
       "</style>\n",
       "<table border=\"1\" class=\"dataframe\">\n",
       "  <thead>\n",
       "    <tr style=\"text-align: right;\">\n",
       "      <th>col_0</th>\n",
       "      <th>acc</th>\n",
       "      <th>good</th>\n",
       "      <th>unacc</th>\n",
       "      <th>vgood</th>\n",
       "    </tr>\n",
       "    <tr>\n",
       "      <th>outcome</th>\n",
       "      <th></th>\n",
       "      <th></th>\n",
       "      <th></th>\n",
       "      <th></th>\n",
       "    </tr>\n",
       "  </thead>\n",
       "  <tbody>\n",
       "    <tr>\n",
       "      <th>acc</th>\n",
       "      <td>83</td>\n",
       "      <td>0</td>\n",
       "      <td>1</td>\n",
       "      <td>0</td>\n",
       "    </tr>\n",
       "    <tr>\n",
       "      <th>good</th>\n",
       "      <td>0</td>\n",
       "      <td>19</td>\n",
       "      <td>0</td>\n",
       "      <td>0</td>\n",
       "    </tr>\n",
       "    <tr>\n",
       "      <th>unacc</th>\n",
       "      <td>0</td>\n",
       "      <td>0</td>\n",
       "      <td>307</td>\n",
       "      <td>0</td>\n",
       "    </tr>\n",
       "    <tr>\n",
       "      <th>vgood</th>\n",
       "      <td>2</td>\n",
       "      <td>0</td>\n",
       "      <td>0</td>\n",
       "      <td>20</td>\n",
       "    </tr>\n",
       "  </tbody>\n",
       "</table>\n",
       "</div>"
      ],
      "text/plain": [
       "col_0    acc  good  unacc  vgood\n",
       "outcome                         \n",
       "acc       83     0      1      0\n",
       "good       0    19      0      0\n",
       "unacc      0     0    307      0\n",
       "vgood      2     0      0     20"
      ]
     },
     "execution_count": 34,
     "metadata": {},
     "output_type": "execute_result"
    }
   ],
   "source": [
    "print(Counter(y_test))\n",
    "pd.crosstab(y_test,y_predict)"
   ]
  },
  {
   "cell_type": "markdown",
   "metadata": {},
   "source": [
    "# KERNEL = LINEAR\n",
    "- cars of type GOOD & VGOOD are NOT SHOWN in the O/P"
   ]
  },
  {
   "cell_type": "code",
   "execution_count": 35,
   "metadata": {},
   "outputs": [
    {
     "data": {
      "text/plain": [
       "SVC(C=2, break_ties=False, cache_size=200, class_weight=None, coef0=0.0,\n",
       "    decision_function_shape='ovr', degree=3, gamma=1, kernel='linear',\n",
       "    max_iter=-1, probability=False, random_state=None, shrinking=True,\n",
       "    tol=0.001, verbose=False)"
      ]
     },
     "execution_count": 35,
     "metadata": {},
     "output_type": "execute_result"
    }
   ],
   "source": [
    "model = SVC(kernel='linear',C = 2 ,gamma = 1)  # C : 1 to 1000, GAMMA : 0.01 to 10\n",
    "model.fit(X_train,y_train)"
   ]
  },
  {
   "cell_type": "code",
   "execution_count": 36,
   "metadata": {},
   "outputs": [
    {
     "name": "stdout",
     "output_type": "stream",
     "text": [
      "0.7291666666666666\n"
     ]
    }
   ],
   "source": [
    "y_predict = model.predict(X_test)   # In SAGAR's Session , we got Accuracy = 0.8078 \n",
    "print(accuracy_score( y_test,y_predict)) "
   ]
  },
  {
   "cell_type": "code",
   "execution_count": 37,
   "metadata": {},
   "outputs": [
    {
     "name": "stdout",
     "output_type": "stream",
     "text": [
      "Counter({'unacc': 307, 'acc': 84, 'vgood': 22, 'good': 19})\n"
     ]
    },
    {
     "data": {
      "text/html": [
       "<div>\n",
       "<style scoped>\n",
       "    .dataframe tbody tr th:only-of-type {\n",
       "        vertical-align: middle;\n",
       "    }\n",
       "\n",
       "    .dataframe tbody tr th {\n",
       "        vertical-align: top;\n",
       "    }\n",
       "\n",
       "    .dataframe thead th {\n",
       "        text-align: right;\n",
       "    }\n",
       "</style>\n",
       "<table border=\"1\" class=\"dataframe\">\n",
       "  <thead>\n",
       "    <tr style=\"text-align: right;\">\n",
       "      <th>col_0</th>\n",
       "      <th>acc</th>\n",
       "      <th>unacc</th>\n",
       "    </tr>\n",
       "    <tr>\n",
       "      <th>outcome</th>\n",
       "      <th></th>\n",
       "      <th></th>\n",
       "    </tr>\n",
       "  </thead>\n",
       "  <tbody>\n",
       "    <tr>\n",
       "      <th>acc</th>\n",
       "      <td>13</td>\n",
       "      <td>71</td>\n",
       "    </tr>\n",
       "    <tr>\n",
       "      <th>good</th>\n",
       "      <td>0</td>\n",
       "      <td>19</td>\n",
       "    </tr>\n",
       "    <tr>\n",
       "      <th>unacc</th>\n",
       "      <td>5</td>\n",
       "      <td>302</td>\n",
       "    </tr>\n",
       "    <tr>\n",
       "      <th>vgood</th>\n",
       "      <td>13</td>\n",
       "      <td>9</td>\n",
       "    </tr>\n",
       "  </tbody>\n",
       "</table>\n",
       "</div>"
      ],
      "text/plain": [
       "col_0    acc  unacc\n",
       "outcome            \n",
       "acc       13     71\n",
       "good       0     19\n",
       "unacc      5    302\n",
       "vgood     13      9"
      ]
     },
     "execution_count": 37,
     "metadata": {},
     "output_type": "execute_result"
    }
   ],
   "source": [
    "print(Counter(y_test))\n",
    "pd.crosstab(y_test,y_predict)"
   ]
  },
  {
   "cell_type": "code",
   "execution_count": 38,
   "metadata": {},
   "outputs": [
    {
     "data": {
      "text/plain": [
       "SVC(C=20, break_ties=False, cache_size=200, class_weight=None, coef0=0.0,\n",
       "    decision_function_shape='ovr', degree=3, gamma=0.5, kernel='rbf',\n",
       "    max_iter=-1, probability=False, random_state=None, shrinking=True,\n",
       "    tol=0.001, verbose=False)"
      ]
     },
     "execution_count": 38,
     "metadata": {},
     "output_type": "execute_result"
    }
   ],
   "source": [
    "model = SVC(kernel='rbf',C = 20 ,gamma = 0.5)  # C : 1 to 1000, GAMMA : 0.01 to 10\n",
    "model.fit(X_train,y_train)"
   ]
  },
  {
   "cell_type": "code",
   "execution_count": 39,
   "metadata": {},
   "outputs": [
    {
     "name": "stdout",
     "output_type": "stream",
     "text": [
      "0.9976851851851852\n"
     ]
    }
   ],
   "source": [
    "y_predict = model.predict(X_test)   # In SAGAR's Session , we got Accuracy = 0.8078 \n",
    "print(accuracy_score( y_test,y_predict)) "
   ]
  },
  {
   "cell_type": "code",
   "execution_count": 40,
   "metadata": {},
   "outputs": [
    {
     "name": "stdout",
     "output_type": "stream",
     "text": [
      "Counter({'unacc': 307, 'acc': 84, 'vgood': 22, 'good': 19})\n"
     ]
    },
    {
     "data": {
      "text/html": [
       "<div>\n",
       "<style scoped>\n",
       "    .dataframe tbody tr th:only-of-type {\n",
       "        vertical-align: middle;\n",
       "    }\n",
       "\n",
       "    .dataframe tbody tr th {\n",
       "        vertical-align: top;\n",
       "    }\n",
       "\n",
       "    .dataframe thead th {\n",
       "        text-align: right;\n",
       "    }\n",
       "</style>\n",
       "<table border=\"1\" class=\"dataframe\">\n",
       "  <thead>\n",
       "    <tr style=\"text-align: right;\">\n",
       "      <th>col_0</th>\n",
       "      <th>acc</th>\n",
       "      <th>good</th>\n",
       "      <th>unacc</th>\n",
       "      <th>vgood</th>\n",
       "    </tr>\n",
       "    <tr>\n",
       "      <th>outcome</th>\n",
       "      <th></th>\n",
       "      <th></th>\n",
       "      <th></th>\n",
       "      <th></th>\n",
       "    </tr>\n",
       "  </thead>\n",
       "  <tbody>\n",
       "    <tr>\n",
       "      <th>acc</th>\n",
       "      <td>83</td>\n",
       "      <td>0</td>\n",
       "      <td>1</td>\n",
       "      <td>0</td>\n",
       "    </tr>\n",
       "    <tr>\n",
       "      <th>good</th>\n",
       "      <td>0</td>\n",
       "      <td>19</td>\n",
       "      <td>0</td>\n",
       "      <td>0</td>\n",
       "    </tr>\n",
       "    <tr>\n",
       "      <th>unacc</th>\n",
       "      <td>0</td>\n",
       "      <td>0</td>\n",
       "      <td>307</td>\n",
       "      <td>0</td>\n",
       "    </tr>\n",
       "    <tr>\n",
       "      <th>vgood</th>\n",
       "      <td>0</td>\n",
       "      <td>0</td>\n",
       "      <td>0</td>\n",
       "      <td>22</td>\n",
       "    </tr>\n",
       "  </tbody>\n",
       "</table>\n",
       "</div>"
      ],
      "text/plain": [
       "col_0    acc  good  unacc  vgood\n",
       "outcome                         \n",
       "acc       83     0      1      0\n",
       "good       0    19      0      0\n",
       "unacc      0     0    307      0\n",
       "vgood      0     0      0     22"
      ]
     },
     "execution_count": 40,
     "metadata": {},
     "output_type": "execute_result"
    }
   ],
   "source": [
    "print(Counter(y_test))\n",
    "pd.crosstab(y_test,y_predict)"
   ]
  },
  {
   "cell_type": "code",
   "execution_count": 41,
   "metadata": {},
   "outputs": [
    {
     "data": {
      "text/plain": [
       "SVC(C=100, break_ties=False, cache_size=200, class_weight=None, coef0=0.0,\n",
       "    decision_function_shape='ovr', degree=3, gamma=0.3, kernel='rbf',\n",
       "    max_iter=-1, probability=False, random_state=None, shrinking=True,\n",
       "    tol=0.001, verbose=False)"
      ]
     },
     "execution_count": 41,
     "metadata": {},
     "output_type": "execute_result"
    }
   ],
   "source": [
    "model = SVC(kernel='rbf',C = 100 ,gamma = 0.3)  # C : 1 to 1000, GAMMA : 0.01 to 10\n",
    "model.fit(X_train,y_train)"
   ]
  },
  {
   "cell_type": "code",
   "execution_count": 42,
   "metadata": {},
   "outputs": [
    {
     "name": "stdout",
     "output_type": "stream",
     "text": [
      "0.9976851851851852\n"
     ]
    }
   ],
   "source": [
    "y_predict = model.predict(X_test)   # In SAGAR's Session , we got Accuracy = 0.8078 \n",
    "print(accuracy_score( y_test,y_predict)) "
   ]
  },
  {
   "cell_type": "code",
   "execution_count": 43,
   "metadata": {},
   "outputs": [
    {
     "name": "stdout",
     "output_type": "stream",
     "text": [
      "Counter({'unacc': 307, 'acc': 84, 'vgood': 22, 'good': 19})\n"
     ]
    },
    {
     "data": {
      "text/html": [
       "<div>\n",
       "<style scoped>\n",
       "    .dataframe tbody tr th:only-of-type {\n",
       "        vertical-align: middle;\n",
       "    }\n",
       "\n",
       "    .dataframe tbody tr th {\n",
       "        vertical-align: top;\n",
       "    }\n",
       "\n",
       "    .dataframe thead th {\n",
       "        text-align: right;\n",
       "    }\n",
       "</style>\n",
       "<table border=\"1\" class=\"dataframe\">\n",
       "  <thead>\n",
       "    <tr style=\"text-align: right;\">\n",
       "      <th>col_0</th>\n",
       "      <th>acc</th>\n",
       "      <th>good</th>\n",
       "      <th>unacc</th>\n",
       "      <th>vgood</th>\n",
       "    </tr>\n",
       "    <tr>\n",
       "      <th>outcome</th>\n",
       "      <th></th>\n",
       "      <th></th>\n",
       "      <th></th>\n",
       "      <th></th>\n",
       "    </tr>\n",
       "  </thead>\n",
       "  <tbody>\n",
       "    <tr>\n",
       "      <th>acc</th>\n",
       "      <td>83</td>\n",
       "      <td>0</td>\n",
       "      <td>1</td>\n",
       "      <td>0</td>\n",
       "    </tr>\n",
       "    <tr>\n",
       "      <th>good</th>\n",
       "      <td>0</td>\n",
       "      <td>19</td>\n",
       "      <td>0</td>\n",
       "      <td>0</td>\n",
       "    </tr>\n",
       "    <tr>\n",
       "      <th>unacc</th>\n",
       "      <td>0</td>\n",
       "      <td>0</td>\n",
       "      <td>307</td>\n",
       "      <td>0</td>\n",
       "    </tr>\n",
       "    <tr>\n",
       "      <th>vgood</th>\n",
       "      <td>0</td>\n",
       "      <td>0</td>\n",
       "      <td>0</td>\n",
       "      <td>22</td>\n",
       "    </tr>\n",
       "  </tbody>\n",
       "</table>\n",
       "</div>"
      ],
      "text/plain": [
       "col_0    acc  good  unacc  vgood\n",
       "outcome                         \n",
       "acc       83     0      1      0\n",
       "good       0    19      0      0\n",
       "unacc      0     0    307      0\n",
       "vgood      0     0      0     22"
      ]
     },
     "execution_count": 43,
     "metadata": {},
     "output_type": "execute_result"
    }
   ],
   "source": [
    "print(Counter(y_test))\n",
    "pd.crosstab(y_test,y_predict)"
   ]
  },
  {
   "cell_type": "markdown",
   "metadata": {},
   "source": [
    "# GRID SEARCH CROSS VALIDATION  |"
   ]
  },
  {
   "cell_type": "code",
   "execution_count": 44,
   "metadata": {},
   "outputs": [
    {
     "data": {
      "text/plain": [
       "{'kernel': ['rbf'], 'C': [1, 10, 100, 500], 'gamma': [0.01, 0.1, 0.5, 1.2]}"
      ]
     },
     "execution_count": 44,
     "metadata": {},
     "output_type": "execute_result"
    }
   ],
   "source": [
    "parameters = { 'kernel':['rbf'],\n",
    "              'C' : [1,10,100,500],\n",
    "              'gamma' : [0.01,0.1,0.5,1.2]}\n",
    "\n",
    "parameters"
   ]
  },
  {
   "cell_type": "code",
   "execution_count": 45,
   "metadata": {},
   "outputs": [
    {
     "data": {
      "text/plain": [
       "GridSearchCV(cv=None, error_score=nan,\n",
       "             estimator=SVC(C=1.0, break_ties=False, cache_size=200,\n",
       "                           class_weight=None, coef0=0.0,\n",
       "                           decision_function_shape='ovr', degree=3,\n",
       "                           gamma='scale', kernel='rbf', max_iter=-1,\n",
       "                           probability=False, random_state=None, shrinking=True,\n",
       "                           tol=0.001, verbose=False),\n",
       "             iid='deprecated', n_jobs=None,\n",
       "             param_grid={'C': [1, 10, 100, 500], 'gamma': [0.01, 0.1, 0.5, 1.2],\n",
       "                         'kernel': ['rbf']},\n",
       "             pre_dispatch='2*n_jobs', refit=True, return_train_score=False,\n",
       "             scoring=None, verbose=2)"
      ]
     },
     "execution_count": 45,
     "metadata": {},
     "output_type": "execute_result"
    }
   ],
   "source": [
    "grid_model = GridSearchCV(SVC(),parameters,verbose = 2)\n",
    "grid_model"
   ]
  },
  {
   "cell_type": "code",
   "execution_count": 46,
   "metadata": {},
   "outputs": [
    {
     "name": "stdout",
     "output_type": "stream",
     "text": [
      "Fitting 5 folds for each of 16 candidates, totalling 80 fits\n",
      "[CV] C=1, gamma=0.01, kernel=rbf .....................................\n",
      "[CV] ...................... C=1, gamma=0.01, kernel=rbf, total=   0.0s\n",
      "[CV] C=1, gamma=0.01, kernel=rbf .....................................\n",
      "[CV] ...................... C=1, gamma=0.01, kernel=rbf, total=   0.0s\n",
      "[CV] C=1, gamma=0.01, kernel=rbf .....................................\n",
      "[CV] ...................... C=1, gamma=0.01, kernel=rbf, total=   0.0s\n",
      "[CV] C=1, gamma=0.01, kernel=rbf .....................................\n",
      "[CV] ...................... C=1, gamma=0.01, kernel=rbf, total=   0.0s\n",
      "[CV] C=1, gamma=0.01, kernel=rbf .....................................\n",
      "[CV] ...................... C=1, gamma=0.01, kernel=rbf, total=   0.0s\n",
      "[CV] C=1, gamma=0.1, kernel=rbf ......................................\n"
     ]
    },
    {
     "name": "stderr",
     "output_type": "stream",
     "text": [
      "[Parallel(n_jobs=1)]: Using backend SequentialBackend with 1 concurrent workers.\n",
      "[Parallel(n_jobs=1)]: Done   1 out of   1 | elapsed:    0.0s remaining:    0.0s\n"
     ]
    },
    {
     "name": "stdout",
     "output_type": "stream",
     "text": [
      "[CV] ....................... C=1, gamma=0.1, kernel=rbf, total=   0.0s\n",
      "[CV] C=1, gamma=0.1, kernel=rbf ......................................\n",
      "[CV] ....................... C=1, gamma=0.1, kernel=rbf, total=   0.0s\n",
      "[CV] C=1, gamma=0.1, kernel=rbf ......................................\n",
      "[CV] ....................... C=1, gamma=0.1, kernel=rbf, total=   0.0s\n",
      "[CV] C=1, gamma=0.1, kernel=rbf ......................................\n",
      "[CV] ....................... C=1, gamma=0.1, kernel=rbf, total=   0.0s\n",
      "[CV] C=1, gamma=0.1, kernel=rbf ......................................\n",
      "[CV] ....................... C=1, gamma=0.1, kernel=rbf, total=   0.0s\n",
      "[CV] C=1, gamma=0.5, kernel=rbf ......................................\n",
      "[CV] ....................... C=1, gamma=0.5, kernel=rbf, total=   0.0s\n",
      "[CV] C=1, gamma=0.5, kernel=rbf ......................................\n",
      "[CV] ....................... C=1, gamma=0.5, kernel=rbf, total=   0.0s\n",
      "[CV] C=1, gamma=0.5, kernel=rbf ......................................\n",
      "[CV] ....................... C=1, gamma=0.5, kernel=rbf, total=   0.0s\n",
      "[CV] C=1, gamma=0.5, kernel=rbf ......................................\n",
      "[CV] ....................... C=1, gamma=0.5, kernel=rbf, total=   0.1s\n",
      "[CV] C=1, gamma=0.5, kernel=rbf ......................................\n",
      "[CV] ....................... C=1, gamma=0.5, kernel=rbf, total=   0.1s\n",
      "[CV] C=1, gamma=1.2, kernel=rbf ......................................\n",
      "[CV] ....................... C=1, gamma=1.2, kernel=rbf, total=   0.1s\n",
      "[CV] C=1, gamma=1.2, kernel=rbf ......................................\n",
      "[CV] ....................... C=1, gamma=1.2, kernel=rbf, total=   0.1s\n",
      "[CV] C=1, gamma=1.2, kernel=rbf ......................................\n",
      "[CV] ....................... C=1, gamma=1.2, kernel=rbf, total=   0.1s\n",
      "[CV] C=1, gamma=1.2, kernel=rbf ......................................\n",
      "[CV] ....................... C=1, gamma=1.2, kernel=rbf, total=   0.1s\n",
      "[CV] C=1, gamma=1.2, kernel=rbf ......................................\n",
      "[CV] ....................... C=1, gamma=1.2, kernel=rbf, total=   0.1s\n",
      "[CV] C=10, gamma=0.01, kernel=rbf ....................................\n",
      "[CV] ..................... C=10, gamma=0.01, kernel=rbf, total=   0.0s\n",
      "[CV] C=10, gamma=0.01, kernel=rbf ....................................\n",
      "[CV] ..................... C=10, gamma=0.01, kernel=rbf, total=   0.0s\n",
      "[CV] C=10, gamma=0.01, kernel=rbf ....................................\n",
      "[CV] ..................... C=10, gamma=0.01, kernel=rbf, total=   0.0s\n",
      "[CV] C=10, gamma=0.01, kernel=rbf ....................................\n",
      "[CV] ..................... C=10, gamma=0.01, kernel=rbf, total=   0.0s\n",
      "[CV] C=10, gamma=0.01, kernel=rbf ....................................\n",
      "[CV] ..................... C=10, gamma=0.01, kernel=rbf, total=   0.0s\n",
      "[CV] C=10, gamma=0.1, kernel=rbf .....................................\n",
      "[CV] ...................... C=10, gamma=0.1, kernel=rbf, total=   0.0s\n",
      "[CV] C=10, gamma=0.1, kernel=rbf .....................................\n",
      "[CV] ...................... C=10, gamma=0.1, kernel=rbf, total=   0.0s\n",
      "[CV] C=10, gamma=0.1, kernel=rbf .....................................\n",
      "[CV] ...................... C=10, gamma=0.1, kernel=rbf, total=   0.0s\n",
      "[CV] C=10, gamma=0.1, kernel=rbf .....................................\n",
      "[CV] ...................... C=10, gamma=0.1, kernel=rbf, total=   0.0s\n",
      "[CV] C=10, gamma=0.1, kernel=rbf .....................................\n",
      "[CV] ...................... C=10, gamma=0.1, kernel=rbf, total=   0.0s\n",
      "[CV] C=10, gamma=0.5, kernel=rbf .....................................\n",
      "[CV] ...................... C=10, gamma=0.5, kernel=rbf, total=   0.1s\n",
      "[CV] C=10, gamma=0.5, kernel=rbf .....................................\n",
      "[CV] ...................... C=10, gamma=0.5, kernel=rbf, total=   0.0s\n",
      "[CV] C=10, gamma=0.5, kernel=rbf .....................................\n",
      "[CV] ...................... C=10, gamma=0.5, kernel=rbf, total=   0.0s\n",
      "[CV] C=10, gamma=0.5, kernel=rbf .....................................\n",
      "[CV] ...................... C=10, gamma=0.5, kernel=rbf, total=   0.0s\n",
      "[CV] C=10, gamma=0.5, kernel=rbf .....................................\n",
      "[CV] ...................... C=10, gamma=0.5, kernel=rbf, total=   0.1s\n",
      "[CV] C=10, gamma=1.2, kernel=rbf .....................................\n",
      "[CV] ...................... C=10, gamma=1.2, kernel=rbf, total=   0.1s\n",
      "[CV] C=10, gamma=1.2, kernel=rbf .....................................\n",
      "[CV] ...................... C=10, gamma=1.2, kernel=rbf, total=   0.1s\n",
      "[CV] C=10, gamma=1.2, kernel=rbf .....................................\n",
      "[CV] ...................... C=10, gamma=1.2, kernel=rbf, total=   0.1s\n",
      "[CV] C=10, gamma=1.2, kernel=rbf .....................................\n",
      "[CV] ...................... C=10, gamma=1.2, kernel=rbf, total=   0.1s\n",
      "[CV] C=10, gamma=1.2, kernel=rbf .....................................\n",
      "[CV] ...................... C=10, gamma=1.2, kernel=rbf, total=   0.1s\n",
      "[CV] C=100, gamma=0.01, kernel=rbf ...................................\n",
      "[CV] .................... C=100, gamma=0.01, kernel=rbf, total=   0.0s\n",
      "[CV] C=100, gamma=0.01, kernel=rbf ...................................\n",
      "[CV] .................... C=100, gamma=0.01, kernel=rbf, total=   0.0s\n",
      "[CV] C=100, gamma=0.01, kernel=rbf ...................................\n",
      "[CV] .................... C=100, gamma=0.01, kernel=rbf, total=   0.0s\n",
      "[CV] C=100, gamma=0.01, kernel=rbf ...................................\n",
      "[CV] .................... C=100, gamma=0.01, kernel=rbf, total=   0.1s\n",
      "[CV] C=100, gamma=0.01, kernel=rbf ...................................\n",
      "[CV] .................... C=100, gamma=0.01, kernel=rbf, total=   0.0s\n",
      "[CV] C=100, gamma=0.1, kernel=rbf ....................................\n",
      "[CV] ..................... C=100, gamma=0.1, kernel=rbf, total=   0.0s\n",
      "[CV] C=100, gamma=0.1, kernel=rbf ....................................\n",
      "[CV] ..................... C=100, gamma=0.1, kernel=rbf, total=   0.0s\n",
      "[CV] C=100, gamma=0.1, kernel=rbf ....................................\n",
      "[CV] ..................... C=100, gamma=0.1, kernel=rbf, total=   0.0s\n",
      "[CV] C=100, gamma=0.1, kernel=rbf ....................................\n",
      "[CV] ..................... C=100, gamma=0.1, kernel=rbf, total=   0.0s\n",
      "[CV] C=100, gamma=0.1, kernel=rbf ....................................\n",
      "[CV] ..................... C=100, gamma=0.1, kernel=rbf, total=   0.1s\n",
      "[CV] C=100, gamma=0.5, kernel=rbf ....................................\n",
      "[CV] ..................... C=100, gamma=0.5, kernel=rbf, total=   0.0s\n",
      "[CV] C=100, gamma=0.5, kernel=rbf ....................................\n",
      "[CV] ..................... C=100, gamma=0.5, kernel=rbf, total=   0.0s\n",
      "[CV] C=100, gamma=0.5, kernel=rbf ....................................\n",
      "[CV] ..................... C=100, gamma=0.5, kernel=rbf, total=   0.1s\n",
      "[CV] C=100, gamma=0.5, kernel=rbf ....................................\n",
      "[CV] ..................... C=100, gamma=0.5, kernel=rbf, total=   0.0s\n",
      "[CV] C=100, gamma=0.5, kernel=rbf ....................................\n",
      "[CV] ..................... C=100, gamma=0.5, kernel=rbf, total=   0.1s\n",
      "[CV] C=100, gamma=1.2, kernel=rbf ....................................\n",
      "[CV] ..................... C=100, gamma=1.2, kernel=rbf, total=   0.1s\n",
      "[CV] C=100, gamma=1.2, kernel=rbf ....................................\n",
      "[CV] ..................... C=100, gamma=1.2, kernel=rbf, total=   0.1s\n",
      "[CV] C=100, gamma=1.2, kernel=rbf ....................................\n",
      "[CV] ..................... C=100, gamma=1.2, kernel=rbf, total=   0.1s\n",
      "[CV] C=100, gamma=1.2, kernel=rbf ....................................\n",
      "[CV] ..................... C=100, gamma=1.2, kernel=rbf, total=   0.1s\n",
      "[CV] C=100, gamma=1.2, kernel=rbf ....................................\n",
      "[CV] ..................... C=100, gamma=1.2, kernel=rbf, total=   0.1s\n",
      "[CV] C=500, gamma=0.01, kernel=rbf ...................................\n",
      "[CV] .................... C=500, gamma=0.01, kernel=rbf, total=   0.1s\n",
      "[CV] C=500, gamma=0.01, kernel=rbf ...................................\n",
      "[CV] .................... C=500, gamma=0.01, kernel=rbf, total=   0.1s\n",
      "[CV] C=500, gamma=0.01, kernel=rbf ...................................\n",
      "[CV] .................... C=500, gamma=0.01, kernel=rbf, total=   0.1s\n",
      "[CV] C=500, gamma=0.01, kernel=rbf ...................................\n",
      "[CV] .................... C=500, gamma=0.01, kernel=rbf, total=   0.1s\n",
      "[CV] C=500, gamma=0.01, kernel=rbf ...................................\n",
      "[CV] .................... C=500, gamma=0.01, kernel=rbf, total=   0.1s\n",
      "[CV] C=500, gamma=0.1, kernel=rbf ....................................\n",
      "[CV] ..................... C=500, gamma=0.1, kernel=rbf, total=   0.0s\n",
      "[CV] C=500, gamma=0.1, kernel=rbf ....................................\n",
      "[CV] ..................... C=500, gamma=0.1, kernel=rbf, total=   0.0s\n",
      "[CV] C=500, gamma=0.1, kernel=rbf ....................................\n",
      "[CV] ..................... C=500, gamma=0.1, kernel=rbf, total=   0.1s\n",
      "[CV] C=500, gamma=0.1, kernel=rbf ....................................\n",
      "[CV] ..................... C=500, gamma=0.1, kernel=rbf, total=   0.0s\n",
      "[CV] C=500, gamma=0.1, kernel=rbf ....................................\n",
      "[CV] ..................... C=500, gamma=0.1, kernel=rbf, total=   0.0s\n",
      "[CV] C=500, gamma=0.5, kernel=rbf ....................................\n",
      "[CV] ..................... C=500, gamma=0.5, kernel=rbf, total=   0.0s\n",
      "[CV] C=500, gamma=0.5, kernel=rbf ....................................\n",
      "[CV] ..................... C=500, gamma=0.5, kernel=rbf, total=   0.0s\n",
      "[CV] C=500, gamma=0.5, kernel=rbf ....................................\n",
      "[CV] ..................... C=500, gamma=0.5, kernel=rbf, total=   0.0s\n",
      "[CV] C=500, gamma=0.5, kernel=rbf ....................................\n",
      "[CV] ..................... C=500, gamma=0.5, kernel=rbf, total=   0.0s\n",
      "[CV] C=500, gamma=0.5, kernel=rbf ....................................\n",
      "[CV] ..................... C=500, gamma=0.5, kernel=rbf, total=   0.0s\n",
      "[CV] C=500, gamma=1.2, kernel=rbf ....................................\n",
      "[CV] ..................... C=500, gamma=1.2, kernel=rbf, total=   0.1s\n",
      "[CV] C=500, gamma=1.2, kernel=rbf ....................................\n",
      "[CV] ..................... C=500, gamma=1.2, kernel=rbf, total=   0.1s\n",
      "[CV] C=500, gamma=1.2, kernel=rbf ....................................\n",
      "[CV] ..................... C=500, gamma=1.2, kernel=rbf, total=   0.1s\n",
      "[CV] C=500, gamma=1.2, kernel=rbf ....................................\n",
      "[CV] ..................... C=500, gamma=1.2, kernel=rbf, total=   0.1s\n",
      "[CV] C=500, gamma=1.2, kernel=rbf ....................................\n",
      "[CV] ..................... C=500, gamma=1.2, kernel=rbf, total=   0.1s\n"
     ]
    },
    {
     "name": "stderr",
     "output_type": "stream",
     "text": [
      "[Parallel(n_jobs=1)]: Done  80 out of  80 | elapsed:    4.6s finished\n"
     ]
    },
    {
     "data": {
      "text/plain": [
       "GridSearchCV(cv=None, error_score=nan,\n",
       "             estimator=SVC(C=1.0, break_ties=False, cache_size=200,\n",
       "                           class_weight=None, coef0=0.0,\n",
       "                           decision_function_shape='ovr', degree=3,\n",
       "                           gamma='scale', kernel='rbf', max_iter=-1,\n",
       "                           probability=False, random_state=None, shrinking=True,\n",
       "                           tol=0.001, verbose=False),\n",
       "             iid='deprecated', n_jobs=None,\n",
       "             param_grid={'C': [1, 10, 100, 500], 'gamma': [0.01, 0.1, 0.5, 1.2],\n",
       "                         'kernel': ['rbf']},\n",
       "             pre_dispatch='2*n_jobs', refit=True, return_train_score=False,\n",
       "             scoring=None, verbose=2)"
      ]
     },
     "execution_count": 46,
     "metadata": {},
     "output_type": "execute_result"
    }
   ],
   "source": [
    "grid_model.fit(X_train,y_train)"
   ]
  },
  {
   "cell_type": "code",
   "execution_count": 47,
   "metadata": {},
   "outputs": [
    {
     "data": {
      "text/plain": [
       "0.9845678645678646"
      ]
     },
     "execution_count": 47,
     "metadata": {},
     "output_type": "execute_result"
    }
   ],
   "source": [
    "grid_model.best_score_"
   ]
  },
  {
   "cell_type": "code",
   "execution_count": 48,
   "metadata": {},
   "outputs": [
    {
     "data": {
      "text/plain": [
       "{'C': 100, 'gamma': 0.1, 'kernel': 'rbf'}"
      ]
     },
     "execution_count": 48,
     "metadata": {},
     "output_type": "execute_result"
    }
   ],
   "source": [
    "grid_model.best_params_"
   ]
  },
  {
   "cell_type": "code",
   "execution_count": 49,
   "metadata": {},
   "outputs": [
    {
     "data": {
      "text/plain": [
       "9"
      ]
     },
     "execution_count": 49,
     "metadata": {},
     "output_type": "execute_result"
    }
   ],
   "source": [
    "grid_model.best_index_"
   ]
  },
  {
   "cell_type": "code",
   "execution_count": 50,
   "metadata": {},
   "outputs": [
    {
     "name": "stdout",
     "output_type": "stream",
     "text": [
      "Fitting 5 folds for each of 32 candidates, totalling 160 fits\n",
      "[CV] C=1, gamma=0.01, kernel=rbf .....................................\n",
      "[CV] ...................... C=1, gamma=0.01, kernel=rbf, total=   0.1s\n",
      "[CV] C=1, gamma=0.01, kernel=rbf .....................................\n",
      "[CV] ...................... C=1, gamma=0.01, kernel=rbf, total=   0.0s\n",
      "[CV] C=1, gamma=0.01, kernel=rbf .....................................\n",
      "[CV] ...................... C=1, gamma=0.01, kernel=rbf, total=   0.0s\n",
      "[CV] C=1, gamma=0.01, kernel=rbf .....................................\n",
      "[CV] ...................... C=1, gamma=0.01, kernel=rbf, total=   0.0s\n",
      "[CV] C=1, gamma=0.01, kernel=rbf .....................................\n",
      "[CV] ...................... C=1, gamma=0.01, kernel=rbf, total=   0.0s\n"
     ]
    },
    {
     "name": "stderr",
     "output_type": "stream",
     "text": [
      "[Parallel(n_jobs=1)]: Using backend SequentialBackend with 1 concurrent workers.\n",
      "[Parallel(n_jobs=1)]: Done   1 out of   1 | elapsed:    0.0s remaining:    0.0s\n"
     ]
    },
    {
     "name": "stdout",
     "output_type": "stream",
     "text": [
      "[CV] C=1, gamma=0.01, kernel=linear ..................................\n",
      "[CV] ................... C=1, gamma=0.01, kernel=linear, total=   0.0s\n",
      "[CV] C=1, gamma=0.01, kernel=linear ..................................\n",
      "[CV] ................... C=1, gamma=0.01, kernel=linear, total=   0.0s\n",
      "[CV] C=1, gamma=0.01, kernel=linear ..................................\n",
      "[CV] ................... C=1, gamma=0.01, kernel=linear, total=   0.0s\n",
      "[CV] C=1, gamma=0.01, kernel=linear ..................................\n",
      "[CV] ................... C=1, gamma=0.01, kernel=linear, total=   0.0s\n",
      "[CV] C=1, gamma=0.01, kernel=linear ..................................\n",
      "[CV] ................... C=1, gamma=0.01, kernel=linear, total=   0.0s\n",
      "[CV] C=1, gamma=0.1, kernel=rbf ......................................\n",
      "[CV] ....................... C=1, gamma=0.1, kernel=rbf, total=   0.0s\n",
      "[CV] C=1, gamma=0.1, kernel=rbf ......................................\n",
      "[CV] ....................... C=1, gamma=0.1, kernel=rbf, total=   0.0s\n",
      "[CV] C=1, gamma=0.1, kernel=rbf ......................................\n",
      "[CV] ....................... C=1, gamma=0.1, kernel=rbf, total=   0.0s\n",
      "[CV] C=1, gamma=0.1, kernel=rbf ......................................\n",
      "[CV] ....................... C=1, gamma=0.1, kernel=rbf, total=   0.0s\n",
      "[CV] C=1, gamma=0.1, kernel=rbf ......................................\n",
      "[CV] ....................... C=1, gamma=0.1, kernel=rbf, total=   0.0s\n",
      "[CV] C=1, gamma=0.1, kernel=linear ...................................\n",
      "[CV] .................... C=1, gamma=0.1, kernel=linear, total=   0.0s\n",
      "[CV] C=1, gamma=0.1, kernel=linear ...................................\n",
      "[CV] .................... C=1, gamma=0.1, kernel=linear, total=   0.0s\n",
      "[CV] C=1, gamma=0.1, kernel=linear ...................................\n",
      "[CV] .................... C=1, gamma=0.1, kernel=linear, total=   0.0s\n",
      "[CV] C=1, gamma=0.1, kernel=linear ...................................\n",
      "[CV] .................... C=1, gamma=0.1, kernel=linear, total=   0.0s\n",
      "[CV] C=1, gamma=0.1, kernel=linear ...................................\n",
      "[CV] .................... C=1, gamma=0.1, kernel=linear, total=   0.0s\n",
      "[CV] C=1, gamma=0.5, kernel=rbf ......................................\n",
      "[CV] ....................... C=1, gamma=0.5, kernel=rbf, total=   0.1s\n",
      "[CV] C=1, gamma=0.5, kernel=rbf ......................................\n",
      "[CV] ....................... C=1, gamma=0.5, kernel=rbf, total=   0.0s\n",
      "[CV] C=1, gamma=0.5, kernel=rbf ......................................\n",
      "[CV] ....................... C=1, gamma=0.5, kernel=rbf, total=   0.0s\n",
      "[CV] C=1, gamma=0.5, kernel=rbf ......................................\n",
      "[CV] ....................... C=1, gamma=0.5, kernel=rbf, total=   0.0s\n",
      "[CV] C=1, gamma=0.5, kernel=rbf ......................................\n",
      "[CV] ....................... C=1, gamma=0.5, kernel=rbf, total=   0.0s\n",
      "[CV] C=1, gamma=0.5, kernel=linear ...................................\n",
      "[CV] .................... C=1, gamma=0.5, kernel=linear, total=   0.0s\n",
      "[CV] C=1, gamma=0.5, kernel=linear ...................................\n",
      "[CV] .................... C=1, gamma=0.5, kernel=linear, total=   0.0s\n",
      "[CV] C=1, gamma=0.5, kernel=linear ...................................\n",
      "[CV] .................... C=1, gamma=0.5, kernel=linear, total=   0.0s\n",
      "[CV] C=1, gamma=0.5, kernel=linear ...................................\n",
      "[CV] .................... C=1, gamma=0.5, kernel=linear, total=   0.0s\n",
      "[CV] C=1, gamma=0.5, kernel=linear ...................................\n",
      "[CV] .................... C=1, gamma=0.5, kernel=linear, total=   0.0s\n",
      "[CV] C=1, gamma=1.2, kernel=rbf ......................................\n",
      "[CV] ....................... C=1, gamma=1.2, kernel=rbf, total=   0.1s\n",
      "[CV] C=1, gamma=1.2, kernel=rbf ......................................\n",
      "[CV] ....................... C=1, gamma=1.2, kernel=rbf, total=   0.1s\n",
      "[CV] C=1, gamma=1.2, kernel=rbf ......................................\n",
      "[CV] ....................... C=1, gamma=1.2, kernel=rbf, total=   0.1s\n",
      "[CV] C=1, gamma=1.2, kernel=rbf ......................................\n",
      "[CV] ....................... C=1, gamma=1.2, kernel=rbf, total=   0.1s\n",
      "[CV] C=1, gamma=1.2, kernel=rbf ......................................\n",
      "[CV] ....................... C=1, gamma=1.2, kernel=rbf, total=   0.1s\n",
      "[CV] C=1, gamma=1.2, kernel=linear ...................................\n",
      "[CV] .................... C=1, gamma=1.2, kernel=linear, total=   0.0s\n",
      "[CV] C=1, gamma=1.2, kernel=linear ...................................\n",
      "[CV] .................... C=1, gamma=1.2, kernel=linear, total=   0.0s\n",
      "[CV] C=1, gamma=1.2, kernel=linear ...................................\n",
      "[CV] .................... C=1, gamma=1.2, kernel=linear, total=   0.0s\n",
      "[CV] C=1, gamma=1.2, kernel=linear ...................................\n",
      "[CV] .................... C=1, gamma=1.2, kernel=linear, total=   0.0s\n",
      "[CV] C=1, gamma=1.2, kernel=linear ...................................\n",
      "[CV] .................... C=1, gamma=1.2, kernel=linear, total=   0.0s\n",
      "[CV] C=10, gamma=0.01, kernel=rbf ....................................\n",
      "[CV] ..................... C=10, gamma=0.01, kernel=rbf, total=   0.0s\n",
      "[CV] C=10, gamma=0.01, kernel=rbf ....................................\n",
      "[CV] ..................... C=10, gamma=0.01, kernel=rbf, total=   0.0s\n",
      "[CV] C=10, gamma=0.01, kernel=rbf ....................................\n",
      "[CV] ..................... C=10, gamma=0.01, kernel=rbf, total=   0.0s\n",
      "[CV] C=10, gamma=0.01, kernel=rbf ....................................\n",
      "[CV] ..................... C=10, gamma=0.01, kernel=rbf, total=   0.0s\n",
      "[CV] C=10, gamma=0.01, kernel=rbf ....................................\n",
      "[CV] ..................... C=10, gamma=0.01, kernel=rbf, total=   0.0s\n",
      "[CV] C=10, gamma=0.01, kernel=linear .................................\n",
      "[CV] .................. C=10, gamma=0.01, kernel=linear, total=   0.1s\n",
      "[CV] C=10, gamma=0.01, kernel=linear .................................\n",
      "[CV] .................. C=10, gamma=0.01, kernel=linear, total=   0.0s\n",
      "[CV] C=10, gamma=0.01, kernel=linear .................................\n",
      "[CV] .................. C=10, gamma=0.01, kernel=linear, total=   0.0s\n",
      "[CV] C=10, gamma=0.01, kernel=linear .................................\n",
      "[CV] .................. C=10, gamma=0.01, kernel=linear, total=   0.0s\n",
      "[CV] C=10, gamma=0.01, kernel=linear .................................\n",
      "[CV] .................. C=10, gamma=0.01, kernel=linear, total=   0.0s\n",
      "[CV] C=10, gamma=0.1, kernel=rbf .....................................\n",
      "[CV] ...................... C=10, gamma=0.1, kernel=rbf, total=   0.0s\n",
      "[CV] C=10, gamma=0.1, kernel=rbf .....................................\n",
      "[CV] ...................... C=10, gamma=0.1, kernel=rbf, total=   0.0s\n",
      "[CV] C=10, gamma=0.1, kernel=rbf .....................................\n",
      "[CV] ...................... C=10, gamma=0.1, kernel=rbf, total=   0.0s\n",
      "[CV] C=10, gamma=0.1, kernel=rbf .....................................\n",
      "[CV] ...................... C=10, gamma=0.1, kernel=rbf, total=   0.0s\n",
      "[CV] C=10, gamma=0.1, kernel=rbf .....................................\n",
      "[CV] ...................... C=10, gamma=0.1, kernel=rbf, total=   0.0s\n",
      "[CV] C=10, gamma=0.1, kernel=linear ..................................\n",
      "[CV] ................... C=10, gamma=0.1, kernel=linear, total=   0.1s\n",
      "[CV] C=10, gamma=0.1, kernel=linear ..................................\n",
      "[CV] ................... C=10, gamma=0.1, kernel=linear, total=   0.1s\n",
      "[CV] C=10, gamma=0.1, kernel=linear ..................................\n",
      "[CV] ................... C=10, gamma=0.1, kernel=linear, total=   0.0s\n",
      "[CV] C=10, gamma=0.1, kernel=linear ..................................\n",
      "[CV] ................... C=10, gamma=0.1, kernel=linear, total=   0.0s\n",
      "[CV] C=10, gamma=0.1, kernel=linear ..................................\n",
      "[CV] ................... C=10, gamma=0.1, kernel=linear, total=   0.0s\n",
      "[CV] C=10, gamma=0.5, kernel=rbf .....................................\n",
      "[CV] ...................... C=10, gamma=0.5, kernel=rbf, total=   0.1s\n",
      "[CV] C=10, gamma=0.5, kernel=rbf .....................................\n",
      "[CV] ...................... C=10, gamma=0.5, kernel=rbf, total=   0.0s\n",
      "[CV] C=10, gamma=0.5, kernel=rbf .....................................\n",
      "[CV] ...................... C=10, gamma=0.5, kernel=rbf, total=   0.1s\n",
      "[CV] C=10, gamma=0.5, kernel=rbf .....................................\n",
      "[CV] ...................... C=10, gamma=0.5, kernel=rbf, total=   0.1s\n",
      "[CV] C=10, gamma=0.5, kernel=rbf .....................................\n",
      "[CV] ...................... C=10, gamma=0.5, kernel=rbf, total=   0.1s\n",
      "[CV] C=10, gamma=0.5, kernel=linear ..................................\n",
      "[CV] ................... C=10, gamma=0.5, kernel=linear, total=   0.0s\n",
      "[CV] C=10, gamma=0.5, kernel=linear ..................................\n",
      "[CV] ................... C=10, gamma=0.5, kernel=linear, total=   0.0s\n",
      "[CV] C=10, gamma=0.5, kernel=linear ..................................\n",
      "[CV] ................... C=10, gamma=0.5, kernel=linear, total=   0.0s\n",
      "[CV] C=10, gamma=0.5, kernel=linear ..................................\n",
      "[CV] ................... C=10, gamma=0.5, kernel=linear, total=   0.0s\n",
      "[CV] C=10, gamma=0.5, kernel=linear ..................................\n",
      "[CV] ................... C=10, gamma=0.5, kernel=linear, total=   0.0s\n",
      "[CV] C=10, gamma=1.2, kernel=rbf .....................................\n",
      "[CV] ...................... C=10, gamma=1.2, kernel=rbf, total=   0.1s\n",
      "[CV] C=10, gamma=1.2, kernel=rbf .....................................\n",
      "[CV] ...................... C=10, gamma=1.2, kernel=rbf, total=   0.1s\n",
      "[CV] C=10, gamma=1.2, kernel=rbf .....................................\n",
      "[CV] ...................... C=10, gamma=1.2, kernel=rbf, total=   0.1s\n",
      "[CV] C=10, gamma=1.2, kernel=rbf .....................................\n",
      "[CV] ...................... C=10, gamma=1.2, kernel=rbf, total=   0.1s\n",
      "[CV] C=10, gamma=1.2, kernel=rbf .....................................\n",
      "[CV] ...................... C=10, gamma=1.2, kernel=rbf, total=   0.1s\n",
      "[CV] C=10, gamma=1.2, kernel=linear ..................................\n",
      "[CV] ................... C=10, gamma=1.2, kernel=linear, total=   0.0s\n",
      "[CV] C=10, gamma=1.2, kernel=linear ..................................\n",
      "[CV] ................... C=10, gamma=1.2, kernel=linear, total=   0.0s\n",
      "[CV] C=10, gamma=1.2, kernel=linear ..................................\n",
      "[CV] ................... C=10, gamma=1.2, kernel=linear, total=   0.0s\n",
      "[CV] C=10, gamma=1.2, kernel=linear ..................................\n",
      "[CV] ................... C=10, gamma=1.2, kernel=linear, total=   0.0s\n",
      "[CV] C=10, gamma=1.2, kernel=linear ..................................\n",
      "[CV] ................... C=10, gamma=1.2, kernel=linear, total=   0.0s\n",
      "[CV] C=100, gamma=0.01, kernel=rbf ...................................\n",
      "[CV] .................... C=100, gamma=0.01, kernel=rbf, total=   0.0s\n",
      "[CV] C=100, gamma=0.01, kernel=rbf ...................................\n",
      "[CV] .................... C=100, gamma=0.01, kernel=rbf, total=   0.0s\n",
      "[CV] C=100, gamma=0.01, kernel=rbf ...................................\n",
      "[CV] .................... C=100, gamma=0.01, kernel=rbf, total=   0.0s\n",
      "[CV] C=100, gamma=0.01, kernel=rbf ...................................\n",
      "[CV] .................... C=100, gamma=0.01, kernel=rbf, total=   0.0s\n",
      "[CV] C=100, gamma=0.01, kernel=rbf ...................................\n",
      "[CV] .................... C=100, gamma=0.01, kernel=rbf, total=   0.0s\n",
      "[CV] C=100, gamma=0.01, kernel=linear ................................\n",
      "[CV] ................. C=100, gamma=0.01, kernel=linear, total=   0.2s\n",
      "[CV] C=100, gamma=0.01, kernel=linear ................................\n",
      "[CV] ................. C=100, gamma=0.01, kernel=linear, total=   0.2s\n",
      "[CV] C=100, gamma=0.01, kernel=linear ................................\n",
      "[CV] ................. C=100, gamma=0.01, kernel=linear, total=   0.2s\n",
      "[CV] C=100, gamma=0.01, kernel=linear ................................\n",
      "[CV] ................. C=100, gamma=0.01, kernel=linear, total=   0.2s\n",
      "[CV] C=100, gamma=0.01, kernel=linear ................................\n",
      "[CV] ................. C=100, gamma=0.01, kernel=linear, total=   0.2s\n",
      "[CV] C=100, gamma=0.1, kernel=rbf ....................................\n",
      "[CV] ..................... C=100, gamma=0.1, kernel=rbf, total=   0.0s\n",
      "[CV] C=100, gamma=0.1, kernel=rbf ....................................\n",
      "[CV] ..................... C=100, gamma=0.1, kernel=rbf, total=   0.0s\n",
      "[CV] C=100, gamma=0.1, kernel=rbf ....................................\n",
      "[CV] ..................... C=100, gamma=0.1, kernel=rbf, total=   0.0s\n",
      "[CV] C=100, gamma=0.1, kernel=rbf ....................................\n",
      "[CV] ..................... C=100, gamma=0.1, kernel=rbf, total=   0.0s\n",
      "[CV] C=100, gamma=0.1, kernel=rbf ....................................\n",
      "[CV] ..................... C=100, gamma=0.1, kernel=rbf, total=   0.0s\n",
      "[CV] C=100, gamma=0.1, kernel=linear .................................\n",
      "[CV] .................. C=100, gamma=0.1, kernel=linear, total=   0.2s\n",
      "[CV] C=100, gamma=0.1, kernel=linear .................................\n",
      "[CV] .................. C=100, gamma=0.1, kernel=linear, total=   0.2s\n",
      "[CV] C=100, gamma=0.1, kernel=linear .................................\n",
      "[CV] .................. C=100, gamma=0.1, kernel=linear, total=   0.2s\n",
      "[CV] C=100, gamma=0.1, kernel=linear .................................\n",
      "[CV] .................. C=100, gamma=0.1, kernel=linear, total=   0.3s\n",
      "[CV] C=100, gamma=0.1, kernel=linear .................................\n",
      "[CV] .................. C=100, gamma=0.1, kernel=linear, total=   0.2s\n",
      "[CV] C=100, gamma=0.5, kernel=rbf ....................................\n",
      "[CV] ..................... C=100, gamma=0.5, kernel=rbf, total=   0.1s\n",
      "[CV] C=100, gamma=0.5, kernel=rbf ....................................\n",
      "[CV] ..................... C=100, gamma=0.5, kernel=rbf, total=   0.0s\n",
      "[CV] C=100, gamma=0.5, kernel=rbf ....................................\n",
      "[CV] ..................... C=100, gamma=0.5, kernel=rbf, total=   0.0s\n",
      "[CV] C=100, gamma=0.5, kernel=rbf ....................................\n",
      "[CV] ..................... C=100, gamma=0.5, kernel=rbf, total=   0.0s\n",
      "[CV] C=100, gamma=0.5, kernel=rbf ....................................\n",
      "[CV] ..................... C=100, gamma=0.5, kernel=rbf, total=   0.0s\n",
      "[CV] C=100, gamma=0.5, kernel=linear .................................\n",
      "[CV] .................. C=100, gamma=0.5, kernel=linear, total=   0.2s\n",
      "[CV] C=100, gamma=0.5, kernel=linear .................................\n",
      "[CV] .................. C=100, gamma=0.5, kernel=linear, total=   0.2s\n",
      "[CV] C=100, gamma=0.5, kernel=linear .................................\n",
      "[CV] .................. C=100, gamma=0.5, kernel=linear, total=   0.2s\n",
      "[CV] C=100, gamma=0.5, kernel=linear .................................\n",
      "[CV] .................. C=100, gamma=0.5, kernel=linear, total=   0.2s\n",
      "[CV] C=100, gamma=0.5, kernel=linear .................................\n",
      "[CV] .................. C=100, gamma=0.5, kernel=linear, total=   0.2s\n",
      "[CV] C=100, gamma=1.2, kernel=rbf ....................................\n",
      "[CV] ..................... C=100, gamma=1.2, kernel=rbf, total=   0.1s\n",
      "[CV] C=100, gamma=1.2, kernel=rbf ....................................\n",
      "[CV] ..................... C=100, gamma=1.2, kernel=rbf, total=   0.1s\n",
      "[CV] C=100, gamma=1.2, kernel=rbf ....................................\n",
      "[CV] ..................... C=100, gamma=1.2, kernel=rbf, total=   0.1s\n",
      "[CV] C=100, gamma=1.2, kernel=rbf ....................................\n",
      "[CV] ..................... C=100, gamma=1.2, kernel=rbf, total=   0.1s\n",
      "[CV] C=100, gamma=1.2, kernel=rbf ....................................\n",
      "[CV] ..................... C=100, gamma=1.2, kernel=rbf, total=   0.1s\n",
      "[CV] C=100, gamma=1.2, kernel=linear .................................\n",
      "[CV] .................. C=100, gamma=1.2, kernel=linear, total=   0.2s\n",
      "[CV] C=100, gamma=1.2, kernel=linear .................................\n",
      "[CV] .................. C=100, gamma=1.2, kernel=linear, total=   0.2s\n",
      "[CV] C=100, gamma=1.2, kernel=linear .................................\n",
      "[CV] .................. C=100, gamma=1.2, kernel=linear, total=   0.2s\n",
      "[CV] C=100, gamma=1.2, kernel=linear .................................\n",
      "[CV] .................. C=100, gamma=1.2, kernel=linear, total=   0.2s\n",
      "[CV] C=100, gamma=1.2, kernel=linear .................................\n",
      "[CV] .................. C=100, gamma=1.2, kernel=linear, total=   0.2s\n",
      "[CV] C=500, gamma=0.01, kernel=rbf ...................................\n",
      "[CV] .................... C=500, gamma=0.01, kernel=rbf, total=   0.1s\n",
      "[CV] C=500, gamma=0.01, kernel=rbf ...................................\n",
      "[CV] .................... C=500, gamma=0.01, kernel=rbf, total=   0.0s\n",
      "[CV] C=500, gamma=0.01, kernel=rbf ...................................\n",
      "[CV] .................... C=500, gamma=0.01, kernel=rbf, total=   0.1s\n",
      "[CV] C=500, gamma=0.01, kernel=rbf ...................................\n",
      "[CV] .................... C=500, gamma=0.01, kernel=rbf, total=   0.1s\n",
      "[CV] C=500, gamma=0.01, kernel=rbf ...................................\n",
      "[CV] .................... C=500, gamma=0.01, kernel=rbf, total=   0.1s\n",
      "[CV] C=500, gamma=0.01, kernel=linear ................................\n",
      "[CV] ................. C=500, gamma=0.01, kernel=linear, total=   0.7s\n",
      "[CV] C=500, gamma=0.01, kernel=linear ................................\n",
      "[CV] ................. C=500, gamma=0.01, kernel=linear, total=   0.4s\n",
      "[CV] C=500, gamma=0.01, kernel=linear ................................\n",
      "[CV] ................. C=500, gamma=0.01, kernel=linear, total=   0.6s\n",
      "[CV] C=500, gamma=0.01, kernel=linear ................................\n",
      "[CV] ................. C=500, gamma=0.01, kernel=linear, total=   0.6s\n",
      "[CV] C=500, gamma=0.01, kernel=linear ................................\n",
      "[CV] ................. C=500, gamma=0.01, kernel=linear, total=   0.6s\n",
      "[CV] C=500, gamma=0.1, kernel=rbf ....................................\n",
      "[CV] ..................... C=500, gamma=0.1, kernel=rbf, total=   0.0s\n",
      "[CV] C=500, gamma=0.1, kernel=rbf ....................................\n",
      "[CV] ..................... C=500, gamma=0.1, kernel=rbf, total=   0.0s\n",
      "[CV] C=500, gamma=0.1, kernel=rbf ....................................\n",
      "[CV] ..................... C=500, gamma=0.1, kernel=rbf, total=   0.0s\n",
      "[CV] C=500, gamma=0.1, kernel=rbf ....................................\n",
      "[CV] ..................... C=500, gamma=0.1, kernel=rbf, total=   0.1s\n",
      "[CV] C=500, gamma=0.1, kernel=rbf ....................................\n",
      "[CV] ..................... C=500, gamma=0.1, kernel=rbf, total=   0.0s\n",
      "[CV] C=500, gamma=0.1, kernel=linear .................................\n",
      "[CV] .................. C=500, gamma=0.1, kernel=linear, total=   0.6s\n",
      "[CV] C=500, gamma=0.1, kernel=linear .................................\n",
      "[CV] .................. C=500, gamma=0.1, kernel=linear, total=   0.4s\n",
      "[CV] C=500, gamma=0.1, kernel=linear .................................\n",
      "[CV] .................. C=500, gamma=0.1, kernel=linear, total=   0.6s\n",
      "[CV] C=500, gamma=0.1, kernel=linear .................................\n",
      "[CV] .................. C=500, gamma=0.1, kernel=linear, total=   0.7s\n",
      "[CV] C=500, gamma=0.1, kernel=linear .................................\n",
      "[CV] .................. C=500, gamma=0.1, kernel=linear, total=   0.7s\n",
      "[CV] C=500, gamma=0.5, kernel=rbf ....................................\n",
      "[CV] ..................... C=500, gamma=0.5, kernel=rbf, total=   0.0s\n",
      "[CV] C=500, gamma=0.5, kernel=rbf ....................................\n",
      "[CV] ..................... C=500, gamma=0.5, kernel=rbf, total=   0.0s\n",
      "[CV] C=500, gamma=0.5, kernel=rbf ....................................\n",
      "[CV] ..................... C=500, gamma=0.5, kernel=rbf, total=   0.0s\n",
      "[CV] C=500, gamma=0.5, kernel=rbf ....................................\n",
      "[CV] ..................... C=500, gamma=0.5, kernel=rbf, total=   0.0s\n",
      "[CV] C=500, gamma=0.5, kernel=rbf ....................................\n",
      "[CV] ..................... C=500, gamma=0.5, kernel=rbf, total=   0.1s\n",
      "[CV] C=500, gamma=0.5, kernel=linear .................................\n",
      "[CV] .................. C=500, gamma=0.5, kernel=linear, total=   0.6s\n",
      "[CV] C=500, gamma=0.5, kernel=linear .................................\n",
      "[CV] .................. C=500, gamma=0.5, kernel=linear, total=   0.4s\n",
      "[CV] C=500, gamma=0.5, kernel=linear .................................\n",
      "[CV] .................. C=500, gamma=0.5, kernel=linear, total=   0.6s\n",
      "[CV] C=500, gamma=0.5, kernel=linear .................................\n",
      "[CV] .................. C=500, gamma=0.5, kernel=linear, total=   0.7s\n",
      "[CV] C=500, gamma=0.5, kernel=linear .................................\n",
      "[CV] .................. C=500, gamma=0.5, kernel=linear, total=   0.7s\n",
      "[CV] C=500, gamma=1.2, kernel=rbf ....................................\n",
      "[CV] ..................... C=500, gamma=1.2, kernel=rbf, total=   0.1s\n",
      "[CV] C=500, gamma=1.2, kernel=rbf ....................................\n",
      "[CV] ..................... C=500, gamma=1.2, kernel=rbf, total=   0.1s\n",
      "[CV] C=500, gamma=1.2, kernel=rbf ....................................\n",
      "[CV] ..................... C=500, gamma=1.2, kernel=rbf, total=   0.1s\n",
      "[CV] C=500, gamma=1.2, kernel=rbf ....................................\n",
      "[CV] ..................... C=500, gamma=1.2, kernel=rbf, total=   0.1s\n",
      "[CV] C=500, gamma=1.2, kernel=rbf ....................................\n",
      "[CV] ..................... C=500, gamma=1.2, kernel=rbf, total=   0.1s\n",
      "[CV] C=500, gamma=1.2, kernel=linear .................................\n",
      "[CV] .................. C=500, gamma=1.2, kernel=linear, total=   0.6s\n",
      "[CV] C=500, gamma=1.2, kernel=linear .................................\n",
      "[CV] .................. C=500, gamma=1.2, kernel=linear, total=   0.4s\n",
      "[CV] C=500, gamma=1.2, kernel=linear .................................\n",
      "[CV] .................. C=500, gamma=1.2, kernel=linear, total=   0.6s\n",
      "[CV] C=500, gamma=1.2, kernel=linear .................................\n",
      "[CV] .................. C=500, gamma=1.2, kernel=linear, total=   0.7s\n",
      "[CV] C=500, gamma=1.2, kernel=linear .................................\n",
      "[CV] .................. C=500, gamma=1.2, kernel=linear, total=   0.8s\n"
     ]
    },
    {
     "name": "stderr",
     "output_type": "stream",
     "text": [
      "[Parallel(n_jobs=1)]: Done 160 out of 160 | elapsed:   21.6s finished\n"
     ]
    },
    {
     "data": {
      "text/plain": [
       "GridSearchCV(cv=None, error_score=nan,\n",
       "             estimator=SVC(C=1.0, break_ties=False, cache_size=200,\n",
       "                           class_weight=None, coef0=0.0,\n",
       "                           decision_function_shape='ovr', degree=3,\n",
       "                           gamma='scale', kernel='rbf', max_iter=-1,\n",
       "                           probability=False, random_state=None, shrinking=True,\n",
       "                           tol=0.001, verbose=False),\n",
       "             iid='deprecated', n_jobs=None,\n",
       "             param_grid={'C': [1, 10, 100, 500], 'gamma': [0.01, 0.1, 0.5, 1.2],\n",
       "                         'kernel': ['rbf', 'linear']},\n",
       "             pre_dispatch='2*n_jobs', refit=True, return_train_score=False,\n",
       "             scoring=None, verbose=2)"
      ]
     },
     "execution_count": 50,
     "metadata": {},
     "output_type": "execute_result"
    }
   ],
   "source": [
    "parameters = { 'kernel':['rbf','linear'],\n",
    "              'C' : [1,10,100,500],\n",
    "              'gamma' : [0.01,0.1,0.5,1.2]}\n",
    "\n",
    "# parameters = { 'kernel':['rbf','linear'], 'C' : [1,10,100,500], 'gamma' : [0.01,0.1,0.5,1.2]} # we can give like this also\n",
    "\n",
    "grid_model = GridSearchCV(SVC(),parameters,verbose = 2)\n",
    "\n",
    "grid_model.fit(X_train,y_train)\n"
   ]
  },
  {
   "cell_type": "code",
   "execution_count": 51,
   "metadata": {},
   "outputs": [
    {
     "data": {
      "text/plain": [
       "0.9845678645678646"
      ]
     },
     "execution_count": 51,
     "metadata": {},
     "output_type": "execute_result"
    }
   ],
   "source": [
    "grid_model.best_score_  "
   ]
  },
  {
   "cell_type": "code",
   "execution_count": 52,
   "metadata": {},
   "outputs": [
    {
     "data": {
      "text/plain": [
       "{'C': 100, 'gamma': 0.1, 'kernel': 'rbf'}"
      ]
     },
     "execution_count": 52,
     "metadata": {},
     "output_type": "execute_result"
    }
   ],
   "source": [
    "grid_model.best_params_"
   ]
  },
  {
   "cell_type": "code",
   "execution_count": 53,
   "metadata": {},
   "outputs": [
    {
     "data": {
      "text/plain": [
       "18"
      ]
     },
     "execution_count": 53,
     "metadata": {},
     "output_type": "execute_result"
    }
   ],
   "source": [
    "grid_model.best_index_"
   ]
  }
 ],
 "metadata": {
  "kernelspec": {
   "display_name": "Python 3",
   "language": "python",
   "name": "python3"
  },
  "language_info": {
   "codemirror_mode": {
    "name": "ipython",
    "version": 3
   },
   "file_extension": ".py",
   "mimetype": "text/x-python",
   "name": "python",
   "nbconvert_exporter": "python",
   "pygments_lexer": "ipython3",
   "version": "3.7.6"
  }
 },
 "nbformat": 4,
 "nbformat_minor": 2
}
